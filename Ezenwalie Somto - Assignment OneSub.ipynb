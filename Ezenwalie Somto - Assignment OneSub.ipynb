{
 "cells": [
  {
   "cell_type": "markdown",
   "id": "f248b72f-b3db-45b7-9860-546664a019a7",
   "metadata": {},
   "source": [
    "### Exercise 1\n",
    "\n",
    "XYZ is one of the leading banks in west Africa. Recently, the bank announced a 5.5% increase for their mid-level staff retroactive for 8 months. Given that the original annual salary is 5 million, write a program that outputs the amount of retroactive pay due to the staff, the new annual salary, and new monthly salary. Your answers should be well formatted by taking the advantage of Python string formatting.\n",
    "* __Hint: Understand how retro active pay is calculated__"
   ]
  },
  {
   "cell_type": "markdown",
   "id": "08ab6cfa-1574-4c82-b43a-296a6f15da13",
   "metadata": {},
   "source": [
    "__Instructions for Completing the Assignment__\n",
    "\n",
    "Objective: Using the provided data regarding an announced 5.5% salary increase retroactive for 8 months by XYZ bank, your task is to calculate and display:\n",
    "\n",
    "The retroactive pay due to the staff,\n",
    "The new annual salary,\n",
    "The new monthly salary.\n",
    "Guidelines:\n",
    "\n",
    "Understand the Problem:\n",
    "\n",
    "The bank has announced a 5.5% salary increase, which will be applied retroactively for the past 8 months. This means you need to calculate the amount the bank owes each mid-level staff member for the past 8 months based on this increase. Additionally, you'll determine their updated annual and monthly salaries.\n",
    "\n",
    "Use Given Data:\n",
    "\n",
    "The original annual salary, the salary increase percentage, and the number of months the increase is retroactive for are already provided. Use these values directly in your calculations.\n",
    "\n",
    "Steps:\n",
    "- Begin by calculating the original monthly salary by dividing the `original_annual_salary` by 12. Name this variable monthly_salary_original.\n",
    "- Calculate the increase in monthly salary due to the announced percentage increase. Name this variable `retroactive_increase`.\n",
    "- Multiply the `retroactive_increase` by the `months_retroactive` to find out the total retroactive pay due. Name this variable `retroactive_pay`.\n",
    "- Calculate the increase in the annual salary and determine the new annual salary. Name these variables `annual_increase` and `new_annual_salary` respectively.\n",
    "- Determine the new monthly salary by dividing the `new_annual_salary` by 12. Name this variable `new_monthly_salary`.\n",
    "\n",
    "Variable Naming:\n",
    "\n",
    "Ensure you use the exact variable names mentioned in the steps above for your calculations. This is crucial for auto-grading.\n",
    "  \n",
    "Testing:\n",
    "Verify your calculations. The retroactive pay, for instance, should be the sum of the increased amount for each of the past 8 months.\n",
    "\n",
    "Submission:\n",
    "- Once you've written your code and verified the outputs, make sure to run the entire notebook one last time to confirm everything works sequentially.\n",
    "- Save your Jupyter Notebook and follow the submission guidelines provided by the instructor.\n",
    "\n",
    "Note:\n",
    "- Do not modify the given data or any other predefined elements in the notebook. Only add your code where necessary.\n",
    "- Avoid using functions or advanced programming concepts not yet covered in the course.\n",
    "- Maintain academic integrity. Ensure your submission is your original work and avoid sharing your solution with classmates."
   ]
  },
  {
   "cell_type": "code",
   "execution_count": null,
   "id": "68bdc2d8-ff4d-4c3b-b57a-a73d2dde9942",
   "metadata": {},
   "outputs": [],
   "source": [
    "# Given Data\n",
    "original_annual_salary = \"\"\n",
    "salary_increase_percentage = 5.5 / 100\n",
    "months_retroactive = 8\n",
    "\n",
    "### BEGIN SOLUTION\n",
    "# Calculating the retroactive pay\n",
    "\n",
    "\n",
    "# Calculating new annual and monthly salary\n",
    "\n",
    "\n",
    "# Outputting the results\n"
   ]
  },
  {
   "cell_type": "code",
   "execution_count": 13,
   "id": "90729e12-1c00-4147-98f7-a722c0887b5e",
   "metadata": {},
   "outputs": [
    {
     "name": "stdout",
     "output_type": "stream",
     "text": [
      "5000000\n"
     ]
    }
   ],
   "source": [
    "original_annual_salary = 5000000\n",
    "print(original_annual_salary)"
   ]
  },
  {
   "cell_type": "code",
   "execution_count": 21,
   "id": "3564b572",
   "metadata": {},
   "outputs": [
    {
     "name": "stdout",
     "output_type": "stream",
     "text": [
      "275000.0\n"
     ]
    }
   ],
   "source": [
    "annual_increase = original_annual_salary * (5.5/100)\n",
    "print(annual_increase)"
   ]
  },
  {
   "cell_type": "code",
   "execution_count": 15,
   "id": "24d70f97",
   "metadata": {},
   "outputs": [
    {
     "name": "stdout",
     "output_type": "stream",
     "text": [
      "5275000.0\n"
     ]
    }
   ],
   "source": [
    "new_annual_salary = original_annual_salary  + annual_increase\n",
    "print(new_annual_salary)"
   ]
  },
  {
   "cell_type": "code",
   "execution_count": 17,
   "id": "9345f9d9",
   "metadata": {},
   "outputs": [
    {
     "name": "stdout",
     "output_type": "stream",
     "text": [
      "439583.3333333333\n"
     ]
    }
   ],
   "source": [
    "new_monthly_salary = new_annual_salary/12\n",
    "print(new_monthly_salary)"
   ]
  },
  {
   "cell_type": "code",
   "execution_count": 20,
   "id": "fdb63755",
   "metadata": {},
   "outputs": [
    {
     "name": "stdout",
     "output_type": "stream",
     "text": [
      "3516666.6666666665\n"
     ]
    }
   ],
   "source": [
    "retroactive_pay = new_monthly_salary * 8\n",
    "print(retroactive_pay)"
   ]
  },
  {
   "cell_type": "code",
   "execution_count": 23,
   "id": "0f256848",
   "metadata": {},
   "outputs": [
    {
     "name": "stdout",
     "output_type": "stream",
     "text": [
      "22916.666666666668\n"
     ]
    }
   ],
   "source": [
    "original_monthly_salary = original_annual_salary/12\n",
    "\n",
    "retroactive_increase = (5.5/100)*original_monthly_salary\n",
    "print(retroactive_increase)"
   ]
  },
  {
   "cell_type": "code",
   "execution_count": 53,
   "id": "5127c17c",
   "metadata": {},
   "outputs": [],
   "source": [
    "new_monthly_salary = 416667+22917"
   ]
  },
  {
   "cell_type": "code",
   "execution_count": 55,
   "id": "a8daa2f9",
   "metadata": {},
   "outputs": [],
   "source": [
    "new_annual_salary = (new_salary_per_month*12)"
   ]
  },
  {
   "cell_type": "code",
   "execution_count": 51,
   "id": "7e865c7a",
   "metadata": {},
   "outputs": [],
   "source": [
    "annual_increase = (5000000/5275008)*100"
   ]
  },
  {
   "cell_type": "code",
   "execution_count": null,
   "id": "98814bd1",
   "metadata": {},
   "outputs": [],
   "source": [
    "retroactive_pay = 439584*8"
   ]
  },
  {
   "cell_type": "code",
   "execution_count": 58,
   "id": "fdac0184",
   "metadata": {},
   "outputs": [
    {
     "name": "stdout",
     "output_type": "stream",
     "text": [
      "22916.685\n"
     ]
    }
   ],
   "source": [
    "print(retroactive_increase)"
   ]
  },
  {
   "cell_type": "code",
   "execution_count": 60,
   "id": "90fd1cdd",
   "metadata": {},
   "outputs": [
    {
     "name": "stdout",
     "output_type": "stream",
     "text": [
      "5275008\n"
     ]
    }
   ],
   "source": [
    "print(new_annual_salary)"
   ]
  },
  {
   "cell_type": "code",
   "execution_count": 61,
   "id": "7478857d",
   "metadata": {},
   "outputs": [
    {
     "name": "stdout",
     "output_type": "stream",
     "text": [
      "439584\n"
     ]
    }
   ],
   "source": [
    "print(new_monthly_salary)"
   ]
  },
  {
   "cell_type": "markdown",
   "id": "0b72e00d-2172-4418-ae9c-9fbc4ddb3d23",
   "metadata": {},
   "source": [
    "### Exercise 2\n",
    "\n",
    "Write a program that welcomes a user to your program by displaying their full name. Ask them to input theri first and last names and store them in variables named  _firstName_ and _lastName_ respectively.\n",
    "* __Hint: Refer to Python string manipulation__"
   ]
  },
  {
   "cell_type": "markdown",
   "id": "394ec8cb-6b0a-43ba-90dc-d5fd2a21e486",
   "metadata": {},
   "source": []
  },
  {
   "cell_type": "code",
   "execution_count": 12,
   "id": "dd4033f9-9545-40bf-a5b8-d75b3cc02d6c",
   "metadata": {},
   "outputs": [
    {
     "name": "stdout",
     "output_type": "stream",
     "text": [
      "firstNameSomtochukwu\n",
      "lastNameEzenwalie\n"
     ]
    }
   ],
   "source": [
    "firstName = input(\"firstName\")\n",
    "lastName = input(\"lastName\")"
   ]
  },
  {
   "cell_type": "code",
   "execution_count": 14,
   "id": "5aefe022",
   "metadata": {},
   "outputs": [
    {
     "name": "stdout",
     "output_type": "stream",
     "text": [
      "You are welcome to this program Somtochukwu Ezenwalie\n"
     ]
    }
   ],
   "source": [
    "print(f\"You are welcome to this program {firstName} {lastName}\")"
   ]
  },
  {
   "cell_type": "code",
   "execution_count": 1,
   "id": "b954b366",
   "metadata": {},
   "outputs": [
    {
     "name": "stdout",
     "output_type": "stream",
     "text": [
      "What is your age40\n",
      "What is your height167\n"
     ]
    }
   ],
   "source": [
    "Age = input(\"What is your age\")\n",
    "Height = input(\"What is your height\")"
   ]
  },
  {
   "cell_type": "code",
   "execution_count": 2,
   "id": "c9b978d6",
   "metadata": {},
   "outputs": [
    {
     "name": "stdout",
     "output_type": "stream",
     "text": [
      "You will be 40 by the year 2024 and your height will be 167\n"
     ]
    }
   ],
   "source": [
    "print(f\"You will be {Age} by the year 2024 and your height will be {Height}\")"
   ]
  },
  {
   "cell_type": "code",
   "execution_count": 4,
   "id": "de6c836c",
   "metadata": {},
   "outputs": [
    {
     "name": "stdout",
     "output_type": "stream",
     "text": [
      "what is your department \n",
      "Med lab\n",
      "what level of study are you \n",
      "300L\n",
      "All in the department of Med lab are to report to Mrs. Kachi while those in levels 300L are to attend to the junior students\n"
     ]
    }
   ],
   "source": [
    "department = input(\"what is your department \\n\")\n",
    "level = input(\"what level of study are you \\n\")\n",
    "\n",
    "print(f\"All in the department of {department} are to report to Mrs. Kachi while those in levels {level} are to attend to the junior students\")"
   ]
  },
  {
   "cell_type": "code",
   "execution_count": null,
   "id": "f038ebf5",
   "metadata": {},
   "outputs": [],
   "source": []
  }
 ],
 "metadata": {
  "kernelspec": {
   "display_name": "Python 3 (ipykernel)",
   "language": "python",
   "name": "python3"
  },
  "language_info": {
   "codemirror_mode": {
    "name": "ipython",
    "version": 3
   },
   "file_extension": ".py",
   "mimetype": "text/x-python",
   "name": "python",
   "nbconvert_exporter": "python",
   "pygments_lexer": "ipython3",
   "version": "3.9.13"
  }
 },
 "nbformat": 4,
 "nbformat_minor": 5
}
